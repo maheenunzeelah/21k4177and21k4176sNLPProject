{
 "cells": [
  {
   "cell_type": "code",
   "execution_count": 74,
   "id": "15fb18a0",
   "metadata": {},
   "outputs": [],
   "source": [
    "import torch\n",
    "from transformers import BertForQuestionAnswering\n",
    "import pandas as pd\n",
    "import numpy as np\n",
    "import nltk\n",
    "from nltk.corpus import stopwords\n",
    "from nltk.cluster.util import cosine_distance\n",
    "from nltk.tokenize import sent_tokenize\n",
    "import numpy as np\n",
    "import networkx as nx\n",
    "import re\n",
    "import warnings\n",
    "warnings.filterwarnings('ignore')\n",
    "from summarizer import Summarizer,TransformerSummarizer"
   ]
  },
  {
   "cell_type": "code",
   "execution_count": 73,
   "id": "484f490e",
   "metadata": {},
   "outputs": [],
   "source": [
    "# !pip install bert-extractive-summarizer"
   ]
  },
  {
   "cell_type": "code",
   "execution_count": 2,
   "id": "b3c77b86",
   "metadata": {},
   "outputs": [],
   "source": [
    "summ_df=pd.read_csv(\"summ_df.csv\",index_col=0)"
   ]
  },
  {
   "cell_type": "code",
   "execution_count": 3,
   "id": "295c420e",
   "metadata": {},
   "outputs": [
    {
     "name": "stdout",
     "output_type": "stream",
     "text": [
      "<class 'pandas.core.frame.DataFrame'>\n",
      "Int64Index: 1009 entries, 0 to 1008\n",
      "Data columns (total 5 columns):\n",
      " #   Column     Non-Null Count  Dtype \n",
      "---  ------     --------------  ----- \n",
      " 0   titles     1004 non-null   object\n",
      " 1   abstracts  924 non-null    object\n",
      " 2   sections   946 non-null    object\n",
      " 3   summaries  1009 non-null   object\n",
      " 4   citations  1009 non-null   object\n",
      "dtypes: object(5)\n",
      "memory usage: 47.3+ KB\n"
     ]
    }
   ],
   "source": [
    "summ_df.info()"
   ]
  },
  {
   "cell_type": "code",
   "execution_count": 4,
   "id": "2b0e39da",
   "metadata": {},
   "outputs": [],
   "source": [
    "summ_df['text'] = summ_df['citations'].map(str) + ' ' + summ_df['abstracts'].map(str)"
   ]
  },
  {
   "cell_type": "markdown",
   "id": "09c12e55",
   "metadata": {},
   "source": [
    "## BERT"
   ]
  },
  {
   "cell_type": "code",
   "execution_count": 75,
   "id": "c59eccb0",
   "metadata": {},
   "outputs": [],
   "source": [
    "body=summ_df[\"text\"][0]"
   ]
  },
  {
   "cell_type": "code",
   "execution_count": 81,
   "id": "5cf4ac8b",
   "metadata": {},
   "outputs": [
    {
     "data": {
      "text/plain": [
       "\"The sentences in the DSO collection were tagged with parts of speech using TnT (Brants, 2000) trained on the Brown Corpus itself.  The English POS-tagging has been carried out using freely available TNT tagger (Brants, 2000). This proposition is quite viable as statistical POS taggers like TnT (Brants, 2000) are available. We use TnT (Brants, 2000), a second order Markov Model tagger. For PoS tagging and lemmatization, we combine GENIA (with its built-in, occasionally deviant to kenizer) and TnT (Brants, 2000), which operates on pre-tokenized inputs but in its default models trained on financial news from the Penn Tree bank. Tag the tokens with PTB-style POS tags using a tagger (Brants, 2000). For example, Petrov et al (2012) build supervised POS taggers for 22 languages using the TNT tagger (Brants, 2000), with an average accuracy of 95.2%. Forun aligned words, we simply assign a random POS and very low probability, which does not substantially affect transition probability estimates. In Step 6 we build a tagger by feeding the es ti mated emission and transition probabilities into the TNT tagger (Brants, 2000), an implementation of a trigram HMM tagger. based on tree-structures of various complexity in the tree-adjoining grammar model. Using such tags, Brants (2000) has achieved the automated tagging of a syntactic-structure-based set of grammatical function tags including phrase-chunk and syntactic-role modifiers trained in supervised mode from a tree bank of German. We also incorporated part-of speech tagging, using the TnT tagger (Brants, 2000) retrained on the GENIA corpus gold standard part of-speech tagging. POS Majority lexical type noun count-noun-le c-n-f verb trans-nerg-str-verb-le haben-auxf adj adj-non-prd-le adv intersect-adv-le Table 5: POS tags to lexical types mapping Again for comparison, we have built another simple baseline model using the TnT POS tagger (Brants, 2000). The texts were POS-tagged using TnT (Brants,2000). The freely-available POS lexicon from Sharoff et al (2008), specifically the file for the POS tagger TnT (Brants, 2000), contains full words (239,889 unique forms), with frequency information. We use a corpus of 5 million words automatically tagged by TnT (Brants, 2000) and freely available online (Sharoff et al, 2008). Because we want to make linguistically-informed corruptions, we corrupt only the words we have information for, identifying the words in the corpus which are found in the lexicon with the appropriate POS tag. We also select only words which have inflectional morphology: nouns, verbs, adjectives, pronouns, and numerals.7 4.2.1 Determining word properties (step 1) We use the POS tag to restrict the properties of a word, regardless of how exactly we corrupt it. To POS tag, we use the HMM tagger TnT (Brants, 2000) with the model from http: //corpus.leeds.ac.uk/mocky/. After finishing the corrections, we experimented with training and testing the TnT tagger (Brants,2000) on the& quot; old& quot; and on the& quot; corrected& quot; version of NEGRA?. To make them useful, the necessary preprocessing steps must have been done. The texts were first automatically segmented and tokenized and then they were part-of-speech tagged by TnT tagger (Brants, 2000), which was trained on the respective WILS training data. POS tags, on the other, represent more of a challenge with only 91.6% NORM LEMMA POS Agreed tokens (out of 57,845) 56,052 55,217 52,959 Accuracy (%) 96.9% 95.5% 91.6% Table 3: Inter-annotator agreement agreement between two annotators, which is cons id erably lower than the agreement level reported for annotating a corpus of modern German using STTS, at 98.6% (Brants, 2000a). We further plan to retrain state-of the-art POS taggers such as the TreeTagger and TnT Tagger (Brants, 2000b) on our data. Finally, we plan to investigate how linguistic annotations can be automatically integrated in the TEI annotated version of the corpus to produce TEI con formant output.  Trigrams'n'Tags (TnT) is an efficient statistical part-of-speech tagger. Contrary to claims found elsewhere in the literature, we argue that a tagger based on Markov models performs at least as well as other current approaches, including the Maximum Entropy framework. A recent comparison has even shown that TnT performs significantly better for the tested corpora. We describe the basic model of TnT, the techniques used for smoothing and for handling unknown words. Furthermore, we present evaluations on two corpora. \""
      ]
     },
     "execution_count": 81,
     "metadata": {},
     "output_type": "execute_result"
    }
   ],
   "source": [
    "body"
   ]
  },
  {
   "cell_type": "code",
   "execution_count": 79,
   "id": "e29c5a8e",
   "metadata": {},
   "outputs": [
    {
     "name": "stderr",
     "output_type": "stream",
     "text": [
      "Some weights of the model checkpoint at bert-large-uncased were not used when initializing BertModel: ['cls.predictions.transform.LayerNorm.bias', 'cls.seq_relationship.bias', 'cls.seq_relationship.weight', 'cls.predictions.transform.dense.bias', 'cls.predictions.transform.LayerNorm.weight', 'cls.predictions.decoder.weight', 'cls.predictions.bias', 'cls.predictions.transform.dense.weight']\n",
      "- This IS expected if you are initializing BertModel from the checkpoint of a model trained on another task or with another architecture (e.g. initializing a BertForSequenceClassification model from a BertForPreTraining model).\n",
      "- This IS NOT expected if you are initializing BertModel from the checkpoint of a model that you expect to be exactly identical (initializing a BertForSequenceClassification model from a BertForSequenceClassification model).\n"
     ]
    },
    {
     "name": "stdout",
     "output_type": "stream",
     "text": [
      "The sentences in the DSO collection were tagged with parts of speech using TnT (Brants, 2000) trained on the Brown Corpus itself. For PoS tagging and lemmatization, we combine GENIA (with its built-in, occasionally deviant to kenizer) and TnT (Brants, 2000), which operates on pre-tokenized inputs but in its default models trained on financial news from the Penn Tree bank. Tag the tokens with PTB-style POS tags using a tagger (Brants, 2000). based on tree-structures of various complexity in the tree-adjoining grammar model. POS tags, on the other, represent more of a challenge with only 91.6% NORM LEMMA POS Agreed tokens (out of 57,845) 56,052 55,217 52,959 Accuracy (%) 96.9% 95.5% 91.6% Table 3: Inter-annotator agreement agreement between two annotators, which is cons id erably lower than the agreement level reported for annotating a corpus of modern German using STTS, at 98.6% (Brants, 2000a). Furthermore, we present evaluations on two corpora.\n"
     ]
    }
   ],
   "source": [
    "bert_model = Summarizer()\n",
    "bert_summary = ''.join(bert_model(body, min_length=20))\n",
    "print(bert_summary)"
   ]
  },
  {
   "cell_type": "code",
   "execution_count": 104,
   "id": "861991de",
   "metadata": {},
   "outputs": [],
   "source": [
    "reference=[summ_df[\"summaries\"][0].split(' ')]"
   ]
  },
  {
   "cell_type": "code",
   "execution_count": 105,
   "id": "3376c11c",
   "metadata": {},
   "outputs": [],
   "source": [
    "bert_cand=bert_summary.split(' ')"
   ]
  },
  {
   "cell_type": "code",
   "execution_count": 106,
   "id": "1037d0dc",
   "metadata": {},
   "outputs": [
    {
     "data": {
      "text/plain": [
       "[['TnT',\n",
       "  '-',\n",
       "  'A',\n",
       "  'Statistical',\n",
       "  'Part-Of-Speech',\n",
       "  \"Tagger\\nTrigrams'n'Tags\",\n",
       "  '(TnT)',\n",
       "  'is',\n",
       "  'an',\n",
       "  'efficient',\n",
       "  'statistical',\n",
       "  'part-of-speech',\n",
       "  'tagger.\\nContrary',\n",
       "  'to',\n",
       "  'claims',\n",
       "  'found',\n",
       "  'elsewhere',\n",
       "  'in',\n",
       "  'the',\n",
       "  'literature,',\n",
       "  'we',\n",
       "  'argue',\n",
       "  'that',\n",
       "  'a',\n",
       "  'tagger',\n",
       "  'based',\n",
       "  'on',\n",
       "  'Markov',\n",
       "  'models',\n",
       "  'performs',\n",
       "  'at',\n",
       "  'least',\n",
       "  'as',\n",
       "  'well',\n",
       "  'as',\n",
       "  'other',\n",
       "  'current',\n",
       "  'approaches,',\n",
       "  'including',\n",
       "  'the',\n",
       "  'Maximum',\n",
       "  'Entropy',\n",
       "  'framework.\\nA',\n",
       "  'recent',\n",
       "  'comparison',\n",
       "  'has',\n",
       "  'even',\n",
       "  'shown',\n",
       "  'that',\n",
       "  'TnT',\n",
       "  'performs',\n",
       "  'significantly',\n",
       "  'better',\n",
       "  'for',\n",
       "  'the',\n",
       "  'tested',\n",
       "  'corpora.\\nWe',\n",
       "  'describe',\n",
       "  'the',\n",
       "  'basic',\n",
       "  'model',\n",
       "  'of',\n",
       "  'TnT,',\n",
       "  'the',\n",
       "  'techniques',\n",
       "  'used',\n",
       "  'for',\n",
       "  'smoothing',\n",
       "  'and',\n",
       "  'for',\n",
       "  'handling',\n",
       "  'unknown',\n",
       "  'words.\\nFurthermore,',\n",
       "  'we',\n",
       "  'present',\n",
       "  'evaluations',\n",
       "  'on',\n",
       "  'two',\n",
       "  'corpora.\\nWe',\n",
       "  'achieve',\n",
       "  'the',\n",
       "  'automated',\n",
       "  'tagging',\n",
       "  'of',\n",
       "  'a',\n",
       "  'syntactic-structure-based',\n",
       "  'set',\n",
       "  'of',\n",
       "  'grammatical',\n",
       "  'function',\n",
       "  'tags',\n",
       "  'including',\n",
       "  'phrase-chunk',\n",
       "  'and',\n",
       "  'syntactic-role',\n",
       "  'modifiers',\n",
       "  'trained',\n",
       "  'in',\n",
       "  'supervised',\n",
       "  'mode',\n",
       "  'from',\n",
       "  'a',\n",
       "  'tree',\n",
       "  'bank',\n",
       "  'of',\n",
       "  'German.\\n']]"
      ]
     },
     "execution_count": 106,
     "metadata": {},
     "output_type": "execute_result"
    }
   ],
   "source": [
    "reference"
   ]
  },
  {
   "cell_type": "code",
   "execution_count": 107,
   "id": "91e73b1b",
   "metadata": {},
   "outputs": [
    {
     "data": {
      "text/plain": [
       "['The',\n",
       " 'sentences',\n",
       " 'in',\n",
       " 'the',\n",
       " 'DSO',\n",
       " 'collection',\n",
       " 'were',\n",
       " 'tagged',\n",
       " 'with',\n",
       " 'parts',\n",
       " 'of',\n",
       " 'speech',\n",
       " 'using',\n",
       " 'TnT',\n",
       " '(Brants,',\n",
       " '2000)',\n",
       " 'trained',\n",
       " 'on',\n",
       " 'the',\n",
       " 'Brown',\n",
       " 'Corpus',\n",
       " 'itself.',\n",
       " 'For',\n",
       " 'PoS',\n",
       " 'tagging',\n",
       " 'and',\n",
       " 'lemmatization,',\n",
       " 'we',\n",
       " 'combine',\n",
       " 'GENIA',\n",
       " '(with',\n",
       " 'its',\n",
       " 'built-in,',\n",
       " 'occasionally',\n",
       " 'deviant',\n",
       " 'to',\n",
       " 'kenizer)',\n",
       " 'and',\n",
       " 'TnT',\n",
       " '(Brants,',\n",
       " '2000),',\n",
       " 'which',\n",
       " 'operates',\n",
       " 'on',\n",
       " 'pre-tokenized',\n",
       " 'inputs',\n",
       " 'but',\n",
       " 'in',\n",
       " 'its',\n",
       " 'default',\n",
       " 'models',\n",
       " 'trained',\n",
       " 'on',\n",
       " 'financial',\n",
       " 'news',\n",
       " 'from',\n",
       " 'the',\n",
       " 'Penn',\n",
       " 'Tree',\n",
       " 'bank.',\n",
       " 'Tag',\n",
       " 'the',\n",
       " 'tokens',\n",
       " 'with',\n",
       " 'PTB-style',\n",
       " 'POS',\n",
       " 'tags',\n",
       " 'using',\n",
       " 'a',\n",
       " 'tagger',\n",
       " '(Brants,',\n",
       " '2000).',\n",
       " 'based',\n",
       " 'on',\n",
       " 'tree-structures',\n",
       " 'of',\n",
       " 'various',\n",
       " 'complexity',\n",
       " 'in',\n",
       " 'the',\n",
       " 'tree-adjoining',\n",
       " 'grammar',\n",
       " 'model.',\n",
       " 'POS',\n",
       " 'tags,',\n",
       " 'on',\n",
       " 'the',\n",
       " 'other,',\n",
       " 'represent',\n",
       " 'more',\n",
       " 'of',\n",
       " 'a',\n",
       " 'challenge',\n",
       " 'with',\n",
       " 'only',\n",
       " '91.6%',\n",
       " 'NORM',\n",
       " 'LEMMA',\n",
       " 'POS',\n",
       " 'Agreed',\n",
       " 'tokens',\n",
       " '(out',\n",
       " 'of',\n",
       " '57,845)',\n",
       " '56,052',\n",
       " '55,217',\n",
       " '52,959',\n",
       " 'Accuracy',\n",
       " '(%)',\n",
       " '96.9%',\n",
       " '95.5%',\n",
       " '91.6%',\n",
       " 'Table',\n",
       " '3:',\n",
       " 'Inter-annotator',\n",
       " 'agreement',\n",
       " 'agreement',\n",
       " 'between',\n",
       " 'two',\n",
       " 'annotators,',\n",
       " 'which',\n",
       " 'is',\n",
       " 'cons',\n",
       " 'id',\n",
       " 'erably',\n",
       " 'lower',\n",
       " 'than',\n",
       " 'the',\n",
       " 'agreement',\n",
       " 'level',\n",
       " 'reported',\n",
       " 'for',\n",
       " 'annotating',\n",
       " 'a',\n",
       " 'corpus',\n",
       " 'of',\n",
       " 'modern',\n",
       " 'German',\n",
       " 'using',\n",
       " 'STTS,',\n",
       " 'at',\n",
       " '98.6%',\n",
       " '(Brants,',\n",
       " '2000a).',\n",
       " 'Furthermore,',\n",
       " 'we',\n",
       " 'present',\n",
       " 'evaluations',\n",
       " 'on',\n",
       " 'two',\n",
       " 'corpora.']"
      ]
     },
     "execution_count": 107,
     "metadata": {},
     "output_type": "execute_result"
    }
   ],
   "source": [
    "bert_cand"
   ]
  },
  {
   "cell_type": "code",
   "execution_count": 108,
   "id": "5a927e2a",
   "metadata": {},
   "outputs": [],
   "source": [
    "bleu_dic={}"
   ]
  },
  {
   "cell_type": "code",
   "execution_count": 109,
   "id": "b1f38e6c",
   "metadata": {},
   "outputs": [],
   "source": [
    "from nltk.translate.bleu_score import sentence_bleu\n",
    "import matplotlib.pyplot as plt"
   ]
  },
  {
   "cell_type": "code",
   "execution_count": 110,
   "id": "b0a42276",
   "metadata": {},
   "outputs": [],
   "source": [
    "def bleu(cand):# score = sentence_bleu(reference[i], candidate[i], weights=(1, 0, 0, 0))\n",
    "    bleu_dic['1-grams'] = sentence_bleu([reference[0]], cand, weights=(1, 0, 0, 0))\n",
    "    bleu_dic['1-2-grams'] = sentence_bleu([reference[0]], cand, weights=(0, 1, 0, 0))\n",
    "    bleu_dic['1-3-grams'] = sentence_bleu([reference[0]], cand, weights=(0, 0, 1, 0))\n",
    "    bleu_dic['1-4-grams'] = sentence_bleu([reference[0]], cand, weights=(0, 0, 0, 1))"
   ]
  },
  {
   "cell_type": "code",
   "execution_count": 111,
   "id": "77228e7f",
   "metadata": {},
   "outputs": [],
   "source": [
    "def show_bleu_bar(met):\n",
    "    plt.bar(x = bleu_dic.keys(), height = bleu_dic.values())\n",
    "    plt.title(\"BLEU Score with the \" + met+ \" set\")\n",
    "    plt.ylim((0,1))\n",
    "    plt.show()"
   ]
  },
  {
   "cell_type": "code",
   "execution_count": 112,
   "id": "6d5fc67b",
   "metadata": {},
   "outputs": [],
   "source": [
    "bleu(bert_cand)"
   ]
  },
  {
   "cell_type": "code",
   "execution_count": 114,
   "id": "dc204987",
   "metadata": {},
   "outputs": [
    {
     "data": {
      "text/plain": [
       "{'1-grams': 0.24503311258278143,\n",
       " '1-2-grams': 0.05333333333333334,\n",
       " '1-3-grams': 0.02013422818791946,\n",
       " '1-4-grams': 0.01351351351351352}"
      ]
     },
     "execution_count": 114,
     "metadata": {},
     "output_type": "execute_result"
    }
   ],
   "source": [
    "bleu_dic"
   ]
  },
  {
   "cell_type": "code",
   "execution_count": 113,
   "id": "aa891181",
   "metadata": {},
   "outputs": [
    {
     "data": {
      "image/png": "[encoded data removed]",
      "text/plain": [
       "<Figure size 432x288 with 1 Axes>"
      ]
     },
     "metadata": {
      "needs_background": "light"
     },
     "output_type": "display_data"
    }
   ],
   "source": [
    "show_bleu_bar(\"bert\")"
   ]
  },
  {
   "cell_type": "code",
   "execution_count": 80,
   "id": "2f8c62b3",
   "metadata": {},
   "outputs": [
    {
     "data": {
      "application/vnd.jupyter.widget-view+json": {
       "model_id": "90e6618717c7403dad12d054b3baf53e",
       "version_major": 2,
       "version_minor": 0
      },
      "text/plain": [
       "Downloading:   0%|          | 0.00/718 [00:00<?, ?B/s]"
      ]
     },
     "metadata": {},
     "output_type": "display_data"
    },
    {
     "data": {
      "application/vnd.jupyter.widget-view+json": {
       "model_id": "a1149770cd68466aabbc02c201ab6e75",
       "version_major": 2,
       "version_minor": 0
      },
      "text/plain": [
       "Downloading:   0%|          | 0.00/1.52G [00:00<?, ?B/s]"
      ]
     },
     "metadata": {},
     "output_type": "display_data"
    },
    {
     "data": {
      "application/vnd.jupyter.widget-view+json": {
       "model_id": "079094802ffc4ced8025b82c0e885556",
       "version_major": 2,
       "version_minor": 0
      },
      "text/plain": [
       "Downloading:   0%|          | 0.00/1.04M [00:00<?, ?B/s]"
      ]
     },
     "metadata": {},
     "output_type": "display_data"
    },
    {
     "data": {
      "application/vnd.jupyter.widget-view+json": {
       "model_id": "623c7611c1bf463eb251ab44f2cf12e1",
       "version_major": 2,
       "version_minor": 0
      },
      "text/plain": [
       "Downloading:   0%|          | 0.00/456k [00:00<?, ?B/s]"
      ]
     },
     "metadata": {},
     "output_type": "display_data"
    },
    {
     "name": "stdout",
     "output_type": "stream",
     "text": [
      "The sentences in the DSO collection were tagged with parts of speech using TnT (Brants, 2000) trained on the Brown Corpus itself. For example, Petrov et al (2012) build supervised POS taggers for 22 languages using the TNT tagger (Brants, 2000), with an average accuracy of 95.2%. POS Majority lexical type noun count-noun-le c-n-f verb trans-nerg-str-verb-le haben-auxf adj adj-non-prd-le adv intersect-adv-le Table 5: POS tags to lexical types mapping Again for comparison, we have built another simple baseline model using the TnT POS tagger (Brants, 2000). Finally, we plan to investigate how linguistic annotations can be automatically integrated in the TEI annotated version of the corpus to produce TEI con formant output. Trigrams'n'Tags (TnT) is an efficient statistical part-of-speech tagger. A recent comparison has even shown that TnT performs significantly better for the tested corpora.\n"
     ]
    }
   ],
   "source": [
    "GPT2_model = TransformerSummarizer(transformer_type=\"GPT2\",transformer_model_key=\"gpt2-medium\")\n",
    "full = ''.join(GPT2_model(body, min_length=60))\n",
    "print(full)"
   ]
  },
  {
   "cell_type": "code",
   "execution_count": 115,
   "id": "8983e809",
   "metadata": {},
   "outputs": [],
   "source": [
    "gpt_cand=full.split(' ')"
   ]
  },
  {
   "cell_type": "code",
   "execution_count": 116,
   "id": "905d54fd",
   "metadata": {},
   "outputs": [],
   "source": [
    "bleu(gpt_cand)"
   ]
  },
  {
   "cell_type": "code",
   "execution_count": 118,
   "id": "e9edb419",
   "metadata": {},
   "outputs": [
    {
     "data": {
      "text/plain": [
       "{'1-grams': 0.31111111111111106,\n",
       " '1-2-grams': 0.13432835820895522,\n",
       " '1-3-grams': 0.11278195488721805,\n",
       " '1-4-grams': 0.09848484848484847}"
      ]
     },
     "execution_count": 118,
     "metadata": {},
     "output_type": "execute_result"
    }
   ],
   "source": [
    "bleu_dic"
   ]
  },
  {
   "cell_type": "code",
   "execution_count": 119,
   "id": "fe9cd5c3",
   "metadata": {},
   "outputs": [
    {
     "data": {
      "image/png": "[encoded data removed]",
      "text/plain": [
       "<Figure size 432x288 with 1 Axes>"
      ]
     },
     "metadata": {
      "needs_background": "light"
     },
     "output_type": "display_data"
    }
   ],
   "source": [
    "show_bleu_bar(\"gpt2\")"
   ]
  },
  {
   "cell_type": "code",
   "execution_count": 120,
   "id": "f0c19753",
   "metadata": {},
   "outputs": [],
   "source": [
    "from rouge_score import rouge_scorer\n",
    "\n",
    "scorer = rouge_scorer.RougeScorer(['rouge1', 'rougeL'], use_stemmer=True)"
   ]
  },
  {
   "cell_type": "code",
   "execution_count": 122,
   "id": "459c7398",
   "metadata": {},
   "outputs": [],
   "source": [
    "rouge_ref=summ_df[\"summaries\"][0]"
   ]
  },
  {
   "cell_type": "code",
   "execution_count": 121,
   "id": "78ad2082",
   "metadata": {},
   "outputs": [],
   "source": [
    "def rouge_scores_func(summariz):\n",
    "     scores = scorer.score(summariz,\n",
    "                      rouge_ref)\n",
    "     print(scores)"
   ]
  },
  {
   "cell_type": "code",
   "execution_count": 124,
   "id": "b8b3aedc",
   "metadata": {},
   "outputs": [
    {
     "name": "stdout",
     "output_type": "stream",
     "text": [
      "{'rouge1': Score(precision=0.4214876033057851, recall=0.3090909090909091, fmeasure=0.3566433566433566), 'rougeL': Score(precision=0.19834710743801653, recall=0.14545454545454545, fmeasure=0.16783216783216784)}\n"
     ]
    }
   ],
   "source": [
    "rouge_scores_func(bert_summary)"
   ]
  },
  {
   "cell_type": "code",
   "execution_count": 125,
   "id": "0d32db89",
   "metadata": {},
   "outputs": [
    {
     "name": "stdout",
     "output_type": "stream",
     "text": [
      "{'rouge1': Score(precision=0.45454545454545453, recall=0.35714285714285715, fmeasure=0.4), 'rougeL': Score(precision=0.256198347107438, recall=0.2012987012987013, fmeasure=0.22545454545454546)}\n"
     ]
    }
   ],
   "source": [
    "rouge_scores_func(full)"
   ]
  },
  {
   "cell_type": "code",
   "execution_count": null,
   "id": "39533899",
   "metadata": {},
   "outputs": [],
   "source": []
  }
 ],
 "metadata": {
  "kernelspec": {
   "display_name": "Python 3 (ipykernel)",
   "language": "python",
   "name": "python3"
  },
  "language_info": {
   "codemirror_mode": {
    "name": "ipython",
    "version": 3
   },
   "file_extension": ".py",
   "mimetype": "text/x-python",
   "name": "python",
   "nbconvert_exporter": "python",
   "pygments_lexer": "ipython3",
   "version": "3.9.12"
  }
 },
 "nbformat": 4,
 "nbformat_minor": 5
}
